{
 "cells": [
  {
   "cell_type": "code",
   "execution_count": null,
   "id": "52c1b89e",
   "metadata": {
    "vscode": {
     "languageId": "plaintext"
    }
   },
   "outputs": [],
   "source": [
    "from datasets import load_dataset\n",
    "from transformers import TrainingArguments, LlamaConfig, LlamaForCausalLM, AutoTokenizer, Trainer"
   ]
  },
  {
   "cell_type": "code",
   "execution_count": null,
   "id": "8ebc9d47-0f69-4c22-977c-cf1099ac5df3",
   "metadata": {},
   "outputs": [],
   "source": [
    "# 1. Preparing Datasets\n",
    "dataset = load_dataset('wikitext', 'wikitext-2-raw-v1', split=\"train\")"
   ]
  },
  {
   "cell_type": "code",
   "execution_count": null,
   "id": "32a582b6-acc6-4707-9335-a002d140127a",
   "metadata": {},
   "outputs": [],
   "source": [
    "# 2. Preparing Tokenizer\n",
    "tokenizer = AutoTokenizer.from_pretrained(\"meta-llama/Llama-3.1-8B\")"
   ]
  },
  {
   "cell_type": "code",
   "execution_count": null,
   "id": "d4f62adb-14db-4f9f-9272-7fdcbf860dbb",
   "metadata": {},
   "outputs": [],
   "source": [
    "# 3. Model Architecture\n",
    "config = LlamaConfig(\n",
    "    vocab_size=tokenizer.vocab_size,\n",
    "    hidden_size = 256,\n",
    "    intermediate_size=512,\n",
    "    num_hidden_layers=4,\n",
    "    num_attention_heads=4,\n",
    ")"
   ]
  },
  {
   "cell_type": "code",
   "execution_count": null,
   "id": "4eafbefd-da69-4aeb-8668-28b607b4e292",
   "metadata": {},
   "outputs": [],
   "source": [
    "model = LlamaForCausalLM(config)"
   ]
  },
  {
   "cell_type": "code",
   "execution_count": null,
   "id": "14b33743-98ad-41cb-a8d8-1c0a62f1e3fd",
   "metadata": {},
   "outputs": [],
   "source": [
    "# 4. Tokenizing, Dataset Processing\n",
    "def tokenize_function(examples):\n",
    "    return tokenizer(examples[\"text\"])\n",
    "\n",
    "tokenized_datasets = dataset.map(tokenize_function, batched=True, num_proc=4, remove_columns=[\"text\"])\n",
    "\n",
    "block_size = 128 # Model Memorization Scope\n",
    "\n",
    "def group_texts(examples):\n",
    "    concatenated_examples = {k: sum(examples[k], []) for k in examples.keys()}\n",
    "    total_length = len(concatenated_examples[list(examples.keys())[0]])\n",
    "    total_length = (total_length // block_size) * block_size\n",
    "    result = {\n",
    "        k: [t[i : i + block_size] for i in range(0, total_length, block_size)]\n",
    "        for k, t in concatenated_examples.items()\n",
    "    }\n",
    "    result[\"labels\"] = result[\"input_ids\"].copy()\n",
    "    return result\n",
    "\n",
    "lm_datasets = tokenized_datasets.map(\n",
    "    group_texts,\n",
    "    batched=True,\n",
    "    batch_size=1000,\n",
    "    num_proc=4,\n",
    ")"
   ]
  },
  {
   "cell_type": "code",
   "execution_count": null,
   "id": "24a230b6-5333-4993-8375-01338b745ec9",
   "metadata": {},
   "outputs": [],
   "source": [
    "# 5. Training Processs Setting and Execution\n",
    "training_args = TrainingArguments(\n",
    "    output_dir=\"./results\",\n",
    "    overwrite_output_dir=True,\n",
    "    num_train_epochs=3,\n",
    "    per_device_train_batch_size=4,\n",
    "    learning_rate=2e-5,\n",
    "    save_steps=10_000,\n",
    "    save_total_limit=2,\n",
    "    logging_strategy=\"steps\",\n",
    "    logging_steps=10,\n",
    ")\n",
    "\n",
    "trainer = Trainer(\n",
    "    model=model,\n",
    "    args=training_args,\n",
    "    train_dataset=lm_datasets,\n",
    ")"
   ]
  },
  {
   "cell_type": "code",
   "execution_count": null,
   "id": "0f9ad445-1909-4fb6-ba36-bb2266fd91ef",
   "metadata": {},
   "outputs": [],
   "source": [
    "# Code run\n",
    "trainer.train()"
   ]
  }
 ],
 "metadata": {
  "kernelspec": {
   "display_name": "Python 3 (ipykernel)",
   "language": "python",
   "name": "python3"
  },
  "language_info": {
   "codemirror_mode": {
    "name": "ipython",
    "version": 3
   },
   "file_extension": ".py",
   "mimetype": "text/x-python",
   "name": "python",
   "nbconvert_exporter": "python",
   "pygments_lexer": "ipython3",
   "version": "3.12.7"
  }
 },
 "nbformat": 4,
 "nbformat_minor": 5
}
